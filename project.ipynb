{
 "cells": [
  {
   "cell_type": "markdown",
   "metadata": {},
   "source": [
    "## 2 Number Guessing Game\n"
   ]
  },
  {
   "cell_type": "code",
   "execution_count": 5,
   "metadata": {},
   "outputs": [],
   "source": [
    "import random\n",
    "import math\n",
    "import ipywidgets as widgets\n",
    "from IPython.display import display, clear_output\n",
    "\n",
    "# Global variables to track the number of guesses and the score\n",
    "numq = 0  # Initialize the number of guesses\n",
    "current_score = 0  # Initialize score to 0\n",
    "\n",
    "# Function to generate two distinct secret numbers\n",
    "def respond(n):\n",
    "    lst = list(range(1, n + 1))\n",
    "    n1 = random.sample(lst, 1)[0]\n",
    "    lst.remove(n1)\n",
    "    n2 = random.sample(lst, 1)[0]\n",
    "    return n1, n2\n",
    "\n",
    "# Function to test if numbers are in the given range\n",
    "def test(n1, n2, end1, end2):\n",
    "    lst = list(range(min(end1, end2), max(end1, end2) + 1))\n",
    "    count = sum(num in lst for num in (n1, n2))\n",
    "    return count\n",
    "\n",
    "# Function to calculate the optimal score\n",
    "def optimal(n):\n",
    "    return math.ceil(math.log2(n - 1))\n",
    "\n",
    "# Function to calculate the score\n",
    "def score(numq, n, current_score, guessed_correctly):\n",
    "    if guessed_correctly:\n",
    "        # Only reward if the number of guesses is within optimal range\n",
    "        if numq <= optimal(n):\n",
    "            current_score += (optimal(n) - numq + 2) * 100\n",
    "        elif numq == optimal(n)+1:\n",
    "            current_score += 100\n",
    "    return current_score"
   ]
  },
  {
   "cell_type": "markdown",
   "metadata": {},
   "source": [
    "In the code chunks above, we have implemented different ideas from the MTH 496 Senior Thesis research project. We set up functions that chose distict and random values within an interval defined by the player. Moreover, we set up a function to test whether the two numbers are within an interval that is set by the player. We can think of the initial interval as a set $S$, from the respond function. Additionally, the test function tests to see how many numbers are in a set $Q$ which is a subset of $S$. Next, we implement the proven optimal strategy for this game as defined by the MTH 496 research. Here, we take a given set size and return $K(n)$ which defined the optimal number of guesses it should take for the Questioner to determine at least one of the Responder's secret numbers. This function was then used in our scoring. This scoring function took input parameters of the number of guesses the Questioner has, the initial set size $|S| = n$, the player's current score, and whether or not they guessed correctly. If they did guess correctly, then they will be rewarded points based on how efficiently they found one of the Responder's secret numbers. We elected to give them points only if they ask less than the optimal number of questions plus 1. Additionally, the player recieves more points if they answer faster than expected. For example, if they immediately guess a number and are correct, they will recieve more points than if they employ an optimal strategy to solve this game. However, this is risky as they will recieve 0 points if they guess incorrectly. "
   ]
  },
  {
   "cell_type": "code",
   "execution_count": 6,
   "metadata": {},
   "outputs": [],
   "source": [
    "# Function to run the game\n",
    "def run_game():\n",
    "    global n1, n2, current_score, numq, saved_high_value\n",
    "    n = high_input.value  # Get the user-defined upper limit\n",
    "    if n < 2:  # Ensure there are at least two distinct numbers to choose from\n",
    "        feedback_label.value = \"Please enter a value greater than 1.\"\n",
    "        return\n",
    "\n",
    "    # Save the current value of high_input before resetting (so we can restore it after restart)\n",
    "    saved_high_value = high_input.value\n",
    "    \n",
    "    n1, n2 = respond(n)  # Generate the secret numbers\n",
    "    numq = 0  # Reset numq (guesses count)\n",
    "\n",
    "    # Update the score label immediately after game reset\n",
    "    score_label.value = f\"Score: {current_score}\"\n",
    "    \n",
    "    feedback_label.value = \"Game started! Make your guess.\"\n",
    "    restart_checkbox.layout.display = 'none'  # Hide restart checkbox at the beginning\n",
    "    restart_button.layout.display = 'none'  # Hide restart button at the beginning\n",
    "\n",
    "    # Reset input boxes to default values\n",
    "    low_input.value = 1\n",
    "    high_input.value = saved_high_value  # Set high_input back to the saved value\n",
    "    guess_low_input.value = 1\n",
    "    guess_high_input.value = 10\n",
    "    guess_number_input.value = 1\n",
    "\n",
    "    # Display the guessing screen\n",
    "    display_widgets()\n",
    "\n",
    "# Function to check interval\n",
    "def check_interval(end1, end2):\n",
    "    global numq\n",
    "    numq += 1  # Increment the number of guesses each time the player checks the interval\n",
    "\n",
    "    # Check how many secret numbers are in the range\n",
    "    count = test(n1, n2, end1, end2)\n",
    "    feedback_label.value = f\"There {'are' if count > 1 else 'is'} {count} secret number{'s' if count != 1 else ''} in your interval.\"\n",
    "    feedback_label.value += f\" (Guesses: {numq})\"\n",
    "    \n",
    "    # Update the score label after each interval check\n",
    "    score_label.value = f\"Score: {current_score}\"\n",
    "\n",
    "# Function to make a guess for one secret number\n",
    "def make_guess(guess_number):\n",
    "    global current_score, numq\n",
    "    numq += 1  # Increment the number of guesses each time the player submits a guess\n",
    "    \n",
    "    guessed_correctly = (guess_number in (n1, n2))\n",
    "\n",
    "    # Update the score if the guess is correct\n",
    "    if guessed_correctly:\n",
    "        current_score = score(numq, max(n1, n2), current_score, guessed_correctly)\n",
    "        display_result(\"YOU WON\", \"limegreen\")  # Show win message\n",
    "    else:\n",
    "        # Display game over message\n",
    "        display_result(\"GAME OVER\", \"orangered\")  \n",
    "    \n",
    "    # Update the score label after each guess\n",
    "    score_label.value = f\"Score: {current_score}, Guesses: {numq}\"\n",
    "\n"
   ]
  },
  {
   "cell_type": "markdown",
   "metadata": {},
   "source": [
    "In this code chunk above, we used ChatGPT to create the functions that were formed by our logic and modified them to personalize it towards our specific needs. These functions are the foundation to how the game can be started, checking the interval that the player uses, and giving a response to a guess that is made. \n",
    "\n",
    "The run game function checks the starting interval that the player chooses and ensures that it is an interval that can be used. It then chooses two numbers from that interval to be the secret numbers using the function we created in our first code chunk. In addition, after the game is played, the function also allows the game to reset back to the default setting while also modifying the score to add whatever score they received. \n",
    "\n",
    "The next function simply checks the interval that the player uses as a guess in order to provide feedback on how many secret numbers are in the interval, as well as tallying the number of guesses. \n",
    "\n",
    "The final function in this code chunk checks the guess that the player makes and will decide the outcome of the game, depending on whether they were correct or not "
   ]
  },
  {
   "cell_type": "code",
   "execution_count": 7,
   "metadata": {},
   "outputs": [],
   "source": [
    "# Function to display the result with appropriate styling\n",
    "def display_result(message, color):\n",
    "    clear_output(wait=True)\n",
    "    result_label.value = message  # Set the win/loss message in the label\n",
    "    result_label.style = {'color': color, 'font-size': '36px', 'font-weight': 'bold', 'text-align': 'center'}\n",
    "    \n",
    "    # Show the restart checkbox\n",
    "    restart_checkbox.layout.display = 'block'  # Show restart checkbox\n",
    "    restart_checkbox.value = False  # Reset checkbox value\n",
    "\n",
    "# Function to restart the game when the checkbox is checked\n",
    "def check_restart(change):\n",
    "    if change['new']:\n",
    "        run_game()  # Call the game start function\n",
    "\n",
    "# Display all widgets\n",
    "def display_widgets():\n",
    "    display(widgets.VBox([ \n",
    "        title_label, \n",
    "        low_input, high_input, start_button,\n",
    "        guess_low_input, guess_high_input, check_button,\n",
    "        score_label, feedback_label, guess_number_input, guess_button,\n",
    "        result_label, restart_checkbox  # Include result label and restart checkbox\n",
    "    ]))"
   ]
  },
  {
   "cell_type": "markdown",
   "metadata": {},
   "source": [
    "In the code box above we made three functions in order to incorporate our game logic with display widgets. The display_result function creates a display for the win and loss message in the game interface and a restart checkbox. The check_restart function restarts the game when the check box is clicked in the game interface, which is why the run_game function is embedded in the function as well. The final function, display_widgets, displays all of the widgest such as title label, the low input and high input, start button, guess boxes, score, check box for restarting the game, and result label (feedback - won or lost). "
   ]
  },
  {
   "cell_type": "code",
   "execution_count": 9,
   "metadata": {},
   "outputs": [
    {
     "data": {
      "application/vnd.jupyter.widget-view+json": {
       "model_id": "79f8658c0ee142b986e0ee7c2ef0e7fb",
       "version_major": 2,
       "version_minor": 0
      },
      "text/plain": [
       "VBox(children=(Label(value='🎮 Guess the Secret Numbers! 🎮', layout=Layout(margin='10px 0 0 0')), IntText(value…"
      ]
     },
     "metadata": {},
     "output_type": "display_data"
    }
   ],
   "source": [
    "# Fun Title\n",
    "title_label = widgets.Label(value=\"🎮 Guess the Secret Numbers! 🎮\", \n",
    "                            style={'font-size': '30px', 'font-weight': 'bold', 'color': 'deepskyblue'}, \n",
    "                            layout=widgets.Layout(margin='10px 0 0 0'))\n",
    "\n",
    "# Widgets with fun colors\n",
    "low_input = widgets.IntText(value=1, description='Low:', style={'description_width': 'initial'}, layout=widgets.Layout(background_color='#E6F7FF', font_size='18px', width='250px'))\n",
    "high_input = widgets.IntText(value=10, description='High:', style={'description_width': 'initial'}, layout=widgets.Layout(background_color='#E6F7FF', font_size='18px', width='250px'))\n",
    "start_button = widgets.Button(description=\"Start Game\", button_style='primary', layout=widgets.Layout(background_color='#90EE90', height='50px', width='300px', border='2px solid limegreen'))\n",
    "\n",
    "# Inputs for checking interval\n",
    "guess_low_input = widgets.IntText(value=1, description='Guess Low:', style={'description_width': 'initial'}, layout=widgets.Layout(background_color='#F0E68C', font_size='18px', width='250px'))\n",
    "guess_high_input = widgets.IntText(value=10, description='Guess High:', style={'description_width': 'initial'}, layout=widgets.Layout(background_color='#F0E68C', font_size='18px', width='250px'))\n",
    "check_button = widgets.Button(description=\"Check Interval\", button_style='primary', layout=widgets.Layout(background_color='#FFDDC1', height='50px', width='300px', border='2px solid coral'))\n",
    "\n",
    "# Input for guessing the secret number\n",
    "guess_number_input = widgets.IntText(value=1, description='Guess the Number:', style={'description_width': 'initial'}, layout=widgets.Layout(background_color='#FFB6C1', font_size='18px', width='250px'))\n",
    "guess_button = widgets.Button(description=\"Submit Guess\", button_style='primary', layout=widgets.Layout(background_color='#FF6347', height='50px', width='300px', border='2px solid tomato'))\n",
    "\n",
    "# Restart checkbox\n",
    "restart_checkbox = widgets.Checkbox(value=False, description='Restart the game?', style={'description_width': 'initial'})\n",
    "restart_checkbox.layout.display = 'none'  # Start hidden\n",
    "\n",
    "# Result label for displaying win/loss messages\n",
    "result_label = widgets.Label(value=\"\", layout=widgets.Layout(margin='10px 0 0 0'))\n",
    "\n",
    "# Labels\n",
    "score_label = widgets.Label(value=f\"Score: {current_score}\", layout=widgets.Layout(margin='10px 0 0 0', background_color='#FFD700', font_size='20px'))\n",
    "feedback_label = widgets.Label(value=\"\", layout=widgets.Layout(margin='10px 0 0 0'))\n",
    "\n",
    "# Button click event handlers\n",
    "start_button.on_click(lambda b: run_game())\n",
    "check_button.on_click(lambda b: check_interval(guess_low_input.value, guess_high_input.value))\n",
    "guess_button.on_click(lambda b: make_guess(guess_number_input.value))\n",
    "restart_checkbox.observe(check_restart, names='value')  # Observe checkbox value\n",
    "\n",
    "# Display the widgets initially\n",
    "display_widgets()"
   ]
  },
  {
   "cell_type": "markdown",
   "metadata": {},
   "source": [
    "The code above is the widget design for the game. We used chatgpt to aid us in visualizing what we wanted our game to look like. This was done through various revisions through chatgpt for the game design. Since this was a first time using widgets, it helped ultimately helped us sythesize our ideas and incorporate all of our code in a user friendly GUI. "
   ]
  }
 ],
 "metadata": {
  "kernelspec": {
   "display_name": "Python 3 (ipykernel)",
   "language": "python",
   "name": "python3"
  },
  "language_info": {
   "codemirror_mode": {
    "name": "ipython",
    "version": 3
   },
   "file_extension": ".py",
   "mimetype": "text/x-python",
   "name": "python",
   "nbconvert_exporter": "python",
   "pygments_lexer": "ipython3",
   "version": "3.10.8"
  }
 },
 "nbformat": 4,
 "nbformat_minor": 4
}
